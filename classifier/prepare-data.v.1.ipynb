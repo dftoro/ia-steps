{
 "cells": [
  {
   "cell_type": "code",
   "execution_count": 2,
   "id": "05cfccb4-a382-4da6-97eb-a45bb2603433",
   "metadata": {},
   "outputs": [],
   "source": [
    "import numpy as np\n",
    "import pandas as pd"
   ]
  },
  {
   "cell_type": "code",
   "execution_count": 11,
   "id": "1ade4b26-9317-41e8-917b-c71f6af7e9a2",
   "metadata": {},
   "outputs": [],
   "source": [
    "# Columnas de clases\n",
    "LABEL_COLUMNS = ['direccion', 'fachada', 'envio', 'etiqueta', 'planilla']\n",
    "\n",
    "# Fase 1: crear datasets: train(80%) y devtest(20%)\n",
    "'''\n",
    "CSV_PATH_INPUT = './mobilnet-multi-label-con-planilla-all-data.csv'\n",
    "CSV_PATH_TRAIN = './mobilnet-multi-label-train-60-planilla.csv'\n",
    "CSV_PATH_TEST = './mobilnet-multi-label-devtest-40-planilla.csv'\n",
    "TRAIN_SET_SIZE=0.6\n",
    "'''\n",
    "# Fase 2: crear datasets: dev(50%) y test(50%)\n",
    "\n",
    "CSV_PATH_INPUT = './mobilnet-multi-label-devtest-40-40-planilla.csv'\n",
    "CSV_PATH_TRAIN = './mobilnet-multi-label-dev-40-40-50-planilla.csv'\n",
    "CSV_PATH_TEST = './mobilnet-multi-label-test-40-40-50-planilla.csv'\n",
    "TRAIN_SET_SIZE=0.5\n"
   ]
  },
  {
   "cell_type": "code",
   "execution_count": 12,
   "id": "a1f1bf72-7d2c-4650-bdf9-39ea629dc88d",
   "metadata": {},
   "outputs": [],
   "source": [
    "def split_csv(input_file, train_output, test_output, train_size=0.8, random_state=42):\n",
    "    \"\"\"\n",
    "    Divide un archivo CSV en dos conjuntos aleatorios con proporción especificada.\n",
    "    \n",
    "    Parámetros:\n",
    "    input_file (str): Ruta del archivo CSV de entrada\n",
    "    train_output (str): Ruta donde se guardará el archivo de entrenamiento\n",
    "    test_output (str): Ruta donde se guardará el archivo de validación\n",
    "    train_size (float): Proporción para el conjunto de entrenamiento (default 0.8)\n",
    "    random_state (int): Semilla para reproducibilidad (default 42)\n",
    "    \"\"\"\n",
    "    \n",
    "    # Leer el archivo CSV\n",
    "    df = pd.read_csv(input_file)\n",
    "    \n",
    "    # Crear una máscara aleatoria para la división\n",
    "    np.random.seed(random_state)\n",
    "    mask = np.random.rand(len(df)) < train_size\n",
    "    \n",
    "    # Dividir el DataFrame\n",
    "    train_df = df[mask]\n",
    "    test_df = df[~mask]\n",
    "    \n",
    "    # Guardar los archivos\n",
    "    train_df.to_csv(train_output, index=False)\n",
    "    test_df.to_csv(test_output, index=False)\n",
    "    \n",
    "    # Imprimir información sobre la división\n",
    "    print(f\"Dataset original: {len(df)} filas\")\n",
    "    print(f\"Conjunto de entrenamiento: {len(train_df)} filas ({len(train_df)/len(df)*100:.1f}%)\")\n",
    "    print(f\"Conjunto de prueba: {len(test_df)} filas ({len(test_df)/len(df)*100:.1f}%)\")"
   ]
  },
  {
   "cell_type": "code",
   "execution_count": 13,
   "id": "0aa4ba42-5374-4124-8a38-06c664d2ac89",
   "metadata": {},
   "outputs": [],
   "source": [
    "def print_class_distribution_from_csv(csv_path, label_columns):\n",
    "    \"\"\"\n",
    "    Imprime la distribución de clases leyendo desde un archivo CSV\n",
    "    \n",
    "    Parámetros:\n",
    "    csv_path: str - Ruta al archivo CSV\n",
    "    label_columns: list - Lista de nombres de las columnas de etiquetas\n",
    "    \"\"\"\n",
    "    # Leer solo las columnas necesarias del CSV\n",
    "    df = pd.read_csv(csv_path, usecols=label_columns)\n",
    "    total_samples = len(df)\n",
    "    \n",
    "    print(f\"Dataset preparado con {total_samples} imágenes\")\n",
    "    print(f\"Distribución de clases:\")\n",
    "    \n",
    "    for col in label_columns:\n",
    "        positive_samples = df[col].sum()\n",
    "        percentage = (positive_samples / total_samples) * 100\n",
    "        print(f\"{col}: {percentage:.2f}% ({int(positive_samples)}/{total_samples})\")"
   ]
  },
  {
   "cell_type": "code",
   "execution_count": 14,
   "id": "cb009725-00be-4c54-9b32-eea4e27a6f53",
   "metadata": {},
   "outputs": [
    {
     "name": "stdout",
     "output_type": "stream",
     "text": [
      "Dataset original: 2610 filas\n",
      "Conjunto de entrenamiento: 1291 filas (49.5%)\n",
      "Conjunto de prueba: 1319 filas (50.5%)\n",
      "Input csv\n",
      "Dataset preparado con 2610 imágenes\n",
      "Distribución de clases:\n",
      "direccion: 15.40% (402/2610)\n",
      "fachada: 16.82% (439/2610)\n",
      "envio: 53.83% (1405/2610)\n",
      "etiqueta: 38.58% (1007/2610)\n",
      "planilla: 17.93% (468/2610)\n",
      "Train csv\n",
      "Dataset preparado con 1291 imágenes\n",
      "Distribución de clases:\n",
      "direccion: 16.42% (212/1291)\n",
      "fachada: 17.82% (230/1291)\n",
      "envio: 53.99% (697/1291)\n",
      "etiqueta: 37.26% (481/1291)\n",
      "planilla: 17.35% (224/1291)\n",
      "Test csv\n",
      "Dataset preparado con 1319 imágenes\n",
      "Distribución de clases:\n",
      "direccion: 14.40% (190/1319)\n",
      "fachada: 15.85% (209/1319)\n",
      "envio: 53.68% (708/1319)\n",
      "etiqueta: 39.88% (526/1319)\n",
      "planilla: 18.50% (244/1319)\n"
     ]
    }
   ],
   "source": [
    "split_csv(\n",
    "    input_file=CSV_PATH_INPUT,\n",
    "    train_output=CSV_PATH_TRAIN,\n",
    "    test_output=CSV_PATH_TEST,\n",
    "    train_size=TRAIN_SET_SIZE\n",
    ")\n",
    "\n",
    "print('Input csv')\n",
    "print_class_distribution_from_csv(CSV_PATH_INPUT, label_columns=LABEL_COLUMNS)\n",
    "print('Train csv')\n",
    "print_class_distribution_from_csv(CSV_PATH_TRAIN, label_columns=LABEL_COLUMNS)\n",
    "print('Test csv')\n",
    "print_class_distribution_from_csv(CSV_PATH_TEST, label_columns=LABEL_COLUMNS)"
   ]
  },
  {
   "cell_type": "code",
   "execution_count": null,
   "id": "15f19884-1f34-4bd8-9714-11e53006ecef",
   "metadata": {},
   "outputs": [],
   "source": []
  }
 ],
 "metadata": {
  "kernelspec": {
   "display_name": "Python 3 (ipykernel)",
   "language": "python",
   "name": "python3"
  },
  "language_info": {
   "codemirror_mode": {
    "name": "ipython",
    "version": 3
   },
   "file_extension": ".py",
   "mimetype": "text/x-python",
   "name": "python",
   "nbconvert_exporter": "python",
   "pygments_lexer": "ipython3",
   "version": "3.10.16"
  }
 },
 "nbformat": 4,
 "nbformat_minor": 5
}
