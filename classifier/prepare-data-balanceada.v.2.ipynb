{
 "cells": [
  {
   "cell_type": "code",
   "execution_count": 1,
   "id": "05cfccb4-a382-4da6-97eb-a45bb2603433",
   "metadata": {},
   "outputs": [],
   "source": [
    "import numpy as np\n",
    "import pandas as pd"
   ]
  },
  {
   "cell_type": "code",
   "execution_count": 2,
   "id": "1ade4b26-9317-41e8-917b-c71f6af7e9a2",
   "metadata": {},
   "outputs": [],
   "source": [
    "# Columnas de clases\n",
    "LABEL_COLUMNS = ['direccion', 'fachada', 'envio', 'etiqueta', 'planilla']\n",
    "\n",
    "PRODUCTION_DATA_INPUT = 'yolo-datos-de-produccion-raw.csv'\n",
    "PRODUCTION_DATA_OUTPUT = 'yolo-output-' + PRODUCTION_DATA_INPUT"
   ]
  },
  {
   "cell_type": "code",
   "execution_count": 67,
   "id": "a1f1bf72-7d2c-4650-bdf9-39ea629dc88d",
   "metadata": {},
   "outputs": [],
   "source": [
    "def create_csv_classes(input_file, output_file, size_class, labels_columns):\n",
    "    \"\"\"\n",
    "    Divide un archivo CSV en dos conjuntos aleatorios con proporción especificada.\n",
    "    \n",
    "    Parámetros:\n",
    "    input_file (str): Ruta del archivo CSV de entrada\n",
    "    train_output (str): Ruta donde se guardará el archivo de entrenamiento\n",
    "    test_output (str): Ruta donde se guardará el archivo de validación\n",
    "    train_size (float): Proporción para el conjunto de entrenamiento (default 0.8)\n",
    "    random_state (int): Semilla para reproducibilidad (default 42)\n",
    "    \"\"\"\n",
    "    \n",
    "    # Leer el archivo CSV\n",
    "    df = pd.read_csv(input_file)\n",
    "    df = df.sample(n=len(df), random_state=42, ignore_index=True)\n",
    "\n",
    "    new_rows = [ [] for i in range(len(labels_columns)) ]   \n",
    "    \n",
    "    for index, row in df.iterrows():\n",
    "        #validar si por cada clase aún no se alancza la distribución esperadas\n",
    "        for i in range(len(labels_columns)):\n",
    "            label = labels_columns[i] \n",
    "            if row[label] == 1 and len(new_rows[i]) < size_class:\n",
    "                new_rows[i].append(row)\n",
    "   \n",
    "    new_df = pd.DataFrame(columns=df.columns)\n",
    "    for i in range(len(labels_columns)):\n",
    "        new_row  = new_rows[i]\n",
    "        df_rows = pd.DataFrame(new_row, columns=df.columns)\n",
    "        new_df = pd.concat([new_df, df_rows], ignore_index=True)\n",
    "\n",
    "    new_df.to_csv(output_file)"
   ]
  },
  {
   "cell_type": "code",
   "execution_count": 68,
   "id": "0aa4ba42-5374-4124-8a38-06c664d2ac89",
   "metadata": {},
   "outputs": [],
   "source": [
    "def print_class_distribution_from_csv(csv_path, label_columns):\n",
    "    \"\"\"\n",
    "    Imprime la distribución de clases leyendo desde un archivo CSV\n",
    "    \n",
    "    Parámetros:\n",
    "    csv_path: str - Ruta al archivo CSV\n",
    "    label_columns: list - Lista de nombres de las columnas de etiquetas\n",
    "    \"\"\"\n",
    "    # Leer solo las columnas necesarias del CSV\n",
    "    df = pd.read_csv(csv_path, usecols=label_columns)\n",
    "    total_samples = len(df)\n",
    "    \n",
    "    print(f\"Dataset preparado con {total_samples} imágenes\")\n",
    "    print(f\"Distribución de clases:\")\n",
    "    \n",
    "    for col in label_columns:\n",
    "        positive_samples = df[col].sum()\n",
    "        percentage = (positive_samples / total_samples) * 100\n",
    "        print(f\"{col}: {percentage:.2f}% ({int(positive_samples)}/{total_samples})\")"
   ]
  },
  {
   "cell_type": "code",
   "execution_count": 69,
   "id": "cb009725-00be-4c54-9b32-eea4e27a6f53",
   "metadata": {},
   "outputs": [
    {
     "name": "stdout",
     "output_type": "stream",
     "text": [
      "Input csv\n",
      "Dataset preparado con 5000 imágenes\n",
      "Distribución de clases:\n",
      "direccion: 26.24% (1312/5000)\n",
      "fachada: 16.26% (813/5000)\n",
      "envio: 25.46% (1273/5000)\n",
      "etiqueta: 43.68% (2184/5000)\n",
      "planilla: 0.00% (0/5000)\n",
      "output csv\n",
      "Dataset preparado con 1000 imágenes\n",
      "Distribución de clases:\n",
      "direccion: 45.50% (455/1000)\n",
      "fachada: 30.90% (309/1000)\n",
      "envio: 41.40% (414/1000)\n",
      "etiqueta: 51.60% (516/1000)\n",
      "planilla: 0.00% (0/1000)\n"
     ]
    }
   ],
   "source": [
    "create_csv_classes(\n",
    "    input_file=PRODUCTION_DATA_INPUT,\n",
    "    output_file=PRODUCTION_DATA_OUTPUT,\n",
    "    size_class=250,\n",
    "    labels_columns=LABEL_COLUMNS\n",
    ")\n",
    "\n",
    "print('Input csv')\n",
    "print_class_distribution_from_csv(PRODUCTION_DATA_INPUT, label_columns=LABEL_COLUMNS)\n",
    "print('output csv')\n",
    "print_class_distribution_from_csv(PRODUCTION_DATA_OUTPUT, label_columns=LABEL_COLUMNS)"
   ]
  },
  {
   "cell_type": "code",
   "execution_count": null,
   "id": "15f19884-1f34-4bd8-9714-11e53006ecef",
   "metadata": {},
   "outputs": [],
   "source": []
  }
 ],
 "metadata": {
  "kernelspec": {
   "display_name": "Python 3 (ipykernel)",
   "language": "python",
   "name": "python3"
  },
  "language_info": {
   "codemirror_mode": {
    "name": "ipython",
    "version": 3
   },
   "file_extension": ".py",
   "mimetype": "text/x-python",
   "name": "python",
   "nbconvert_exporter": "python",
   "pygments_lexer": "ipython3",
   "version": "3.10.16"
  }
 },
 "nbformat": 4,
 "nbformat_minor": 5
}
